{
 "cells": [
  {
   "cell_type": "code",
   "execution_count": 1,
   "metadata": {},
   "outputs": [
    {
     "data": {
      "text/plain": [
       "Figure(PyObject <Figure size 400x100 with 1 Axes>)"
      ]
     },
     "metadata": {},
     "output_type": "display_data"
    },
    {
     "data": {
      "text/plain": [
       "1000"
      ]
     },
     "execution_count": 1,
     "metadata": {},
     "output_type": "execute_result"
    }
   ],
   "source": [
    "using Interpolations\n",
    "using Distributed\n",
    "using DataFrames\n",
    "using Printf\n",
    "using JLD\n",
    "using CSV\n",
    "using Dierckx\n",
    "using Dates\n",
    "using PyPlot\n",
    "# using PyCall\n",
    "using Seaborn\n",
    "using LaTeXStrings\n",
    "\n",
    "main_path = \"/home/artur/BondPricing\"\n",
    "module_path = string(main_path, \"/\", \"Julia/modules/\")\n",
    "# push!(LOAD_PATH, module_path)\n",
    "modls = [\"ModelObj\", \"AnalyticFunctions\", \"BondPrInterp\",\n",
    "         \"EqFinDiff\", \"Batch\", \"ModelPlots\", \"FullInfoEq\", \"JointEq\"]\n",
    "for modl in modls\n",
    "    include(string(joinpath(module_path, modl), \".jl\"))\n",
    "end\n",
    "ENV[\"LINES\"] = 750\n",
    "ENV[\"COLUMNS\"] = 1000"
   ]
  },
  {
   "cell_type": "markdown",
   "metadata": {},
   "source": [
    "# CVM Plots"
   ]
  },
  {
   "cell_type": "code",
   "execution_count": 3,
   "metadata": {},
   "outputs": [
    {
     "ename": "UndefVarError",
     "evalue": "UndefVarError: bt not defined",
     "output_type": "error",
     "traceback": [
      "UndefVarError: bt not defined",
      "",
      "Stacktrace:",
      " [1] top-level scope at In[3]:1"
     ]
    }
   ],
   "source": [
    "pt = ModelPlots.PlotsObj(bt; firm_obj_fun=:firm_value, cvm_m=1., svm_m =1.)"
   ]
  },
  {
   "cell_type": "code",
   "execution_count": 4,
   "metadata": {},
   "outputs": [
    {
     "name": "stdout",
     "output_type": "stream",
     "text": [
      "Loading optimal results dataframe...\n"
     ]
    },
    {
     "name": "stderr",
     "output_type": "stream",
     "text": [
      "WARNING: replacing module Batch.\n",
      "WARNING: replacing module ModelObj.\n",
      "WARNING: replacing module AnalyticFunctions.\n",
      "WARNING: replacing module BondPrInterp.\n",
      "WARNING: replacing module EqFinDiff.\n",
      "WARNING: replacing module ModelPlots.\n"
     ]
    },
    {
     "data": {
      "text/plain": [
       "Figure(PyObject <Figure size 400x100 with 1 Axes>)"
      ]
     },
     "metadata": {},
     "output_type": "display_data"
    },
    {
     "name": "stdout",
     "output_type": "stream",
     "text": [
      "Setting parameter dictionary using (m, m_comb_num) ID pair...\n",
      "Loading optimal results dataframe...\n"
     ]
    }
   ],
   "source": [
    "plot_script_path = string(main_path, \"/Julia/Batch/plot_scripts\")\n",
    "include(string(plot_script_path, \"/\", \"cvm_plots_script.jl\"))"
   ]
  },
  {
   "cell_type": "code",
   "execution_count": 5,
   "metadata": {},
   "outputs": [
    {
     "name": "stdout",
     "output_type": "stream",
     "text": [
      "Loading optimal results dataframe...\n",
      "Setting parameter dictionary using (m, m_comb_num) ID pair...\n"
     ]
    },
    {
     "name": "stderr",
     "output_type": "stream",
     "text": [
      "WARNING: replacing module Batch.\n",
      "WARNING: replacing module ModelObj.\n",
      "WARNING: replacing module AnalyticFunctions.\n",
      "WARNING: replacing module BondPrInterp.\n",
      "WARNING: replacing module EqFinDiff.\n",
      "WARNING: replacing module ModelPlots.\n"
     ]
    },
    {
     "data": {
      "text/plain": [
       "Figure(PyObject <Figure size 400x100 with 1 Axes>)"
      ]
     },
     "metadata": {},
     "output_type": "display_data"
    },
    {
     "name": "stdout",
     "output_type": "stream",
     "text": [
      "Loading optimal results dataframe...\n"
     ]
    }
   ],
   "source": [
    "plot_script_path = string(main_path, \"/Julia/Batch/plot_scripts\")\n",
    "plot_script_name = \"cvm_plots_script.jl\"\n",
    "include(string(plot_script_path, \"/\", \"cvm_plots_script.jl\"))"
   ]
  },
  {
   "cell_type": "code",
   "execution_count": null,
   "metadata": {},
   "outputs": [],
   "source": []
  }
 ],
 "metadata": {
  "kernelspec": {
   "display_name": "Julia 1.3.1",
   "language": "julia",
   "name": "julia-1.3"
  },
  "language_info": {
   "file_extension": ".jl",
   "mimetype": "application/julia",
   "name": "julia",
   "version": "1.3.1"
  }
 },
 "nbformat": 4,
 "nbformat_minor": 2
}
