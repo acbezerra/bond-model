{
 "cells": [
  {
   "cell_type": "code",
   "execution_count": 1,
   "metadata": {},
   "outputs": [],
   "source": [
    "import os,shutil"
   ]
  },
  {
   "cell_type": "code",
   "execution_count": 34,
   "metadata": {},
   "outputs": [],
   "source": [
    "resdir = \"/home/artur/BondPricing/Julia/Results/SVM/m_1.00\""
   ]
  },
  {
   "cell_type": "code",
   "execution_count": 27,
   "metadata": {},
   "outputs": [],
   "source": [
    "for x in os.listdir(resdir):\n",
    "    y = x.replace(\"xi\", \"mub_1.00__xi\")\n",
    "    y = y.replace(\"__sigmal_0.15\",\"0__sigmal_0.150\") + \"0\"\n",
    "    y = y.replace(\"__sigmah_0.280_\", \"__sigmah_0.275_\").replace(\"__sigmah_0.230_\", \"__sigmah_0.225_\")\n",
    "    os.rename(resdir + \"/\" + x, resdir + \"/\" + y)\n",
    "#     print(y)"
   ]
  },
  {
   "cell_type": "code",
   "execution_count": 35,
   "metadata": {},
   "outputs": [],
   "source": [
    "for x in os.listdir(resdir):\n",
    "    y = x.replace(\"sigmal_0.150___sigmah\", \"sigmal_0.150__sigmah\")\n",
    "    os.rename(resdir + \"/\" + x, resdir + \"/\" + y)"
   ]
  },
  {
   "cell_type": "code",
   "execution_count": 30,
   "metadata": {},
   "outputs": [],
   "source": [
    "resdir = \"/home/artur/BondPricing/Julia/Results/CVM/m_1.00\"\n",
    "\n",
    "for x in os.listdir(resdir):\n",
    "    y = x.replace(\"xi\", \"mub_1.00__xi\") + \"0\"\n",
    "    os.rename(resdir + \"/\" + x, resdir + \"/\" + y)"
   ]
  },
  {
   "cell_type": "code",
   "execution_count": 33,
   "metadata": {},
   "outputs": [
    {
     "data": {
      "text/plain": [
       "['mub_1.00__xi_1.00__kappa_150.00_bp__gross_delta_200.00_bp__iota_15.00_bp__sigmal_0.200',\n",
       " 'mub_1.00__xi_1.00__kappa_25.00_bp__gross_delta_200.00_bp__iota_25.00_bp__sigmal_0.150',\n",
       " 'mub_1.00__xi_1.00__kappa_100.00_bp__gross_delta_200.00_bp__iota_2.00_bp__sigmal_0.150',\n",
       " 'mub_1.00__xi_1.00__kappa_100.00_bp__gross_delta_200.00_bp__iota_0.00_bp__sigmal_0.150',\n",
       " 'mub_1.00__xi_1.00__kappa_150.00_bp__gross_delta_200.00_bp__iota_0.50_bp__sigmal_0.300',\n",
       " 'mub_1.00__xi_1.00__kappa_100.00_bp__gross_delta_200.00_bp__iota_2.50_bp__sigmal_0.150',\n",
       " 'mub_1.00__xi_1.00__kappa_150.00_bp__gross_delta_200.00_bp__iota_50.00_bp__sigmal_0.150',\n",
       " 'mub_1.00__xi_1.00__kappa_100.00_bp__gross_delta_200.00_bp__iota_10.00_bp__sigmal_0.300',\n",
       " 'mub_1.00__xi_1.00__kappa_100.00_bp__gross_delta_200.00_bp__iota_15.00_bp__sigmal_0.200',\n",
       " 'mub_1.00__xi_1.00__kappa_25.00_bp__gross_delta_200.00_bp__iota_1.00_bp__sigmal_0.250',\n",
       " 'mub_1.00__xi_1.00__kappa_150.00_bp__gross_delta_200.00_bp__iota_2.00_bp__sigmal_0.150',\n",
       " 'mub_1.00__xi_1.00__kappa_50.00_bp__gross_delta_200.00_bp__iota_10.00_bp__sigmal_0.250',\n",
       " 'mub_1.00__xi_1.00__kappa_100.00_bp__gross_delta_200.00_bp__iota_50.00_bp__sigmal_0.300',\n",
       " 'mub_1.00__xi_1.00__kappa_100.00_bp__gross_delta_200.00_bp__iota_20.00_bp__sigmal_0.250',\n",
       " 'mub_1.00__xi_1.00__kappa_100.00_bp__gross_delta_200.00_bp__iota_0.50_bp__sigmal_0.250',\n",
       " 'mub_1.00__xi_1.00__kappa_25.00_bp__gross_delta_200.00_bp__iota_10.00_bp__sigmal_0.300',\n",
       " 'mub_1.00__xi_1.00__kappa_50.00_bp__gross_delta_200.00_bp__iota_1.50_bp__sigmal_0.150',\n",
       " 'mub_1.00__xi_1.00__kappa_100.00_bp__gross_delta_200.00_bp__iota_50.00_bp__sigmal_0.200',\n",
       " 'mub_1.00__xi_1.00__kappa_150.00_bp__gross_delta_200.00_bp__iota_1.00_bp__sigmal_0.250',\n",
       " 'mub_1.00__xi_1.00__kappa_100.00_bp__gross_delta_200.00_bp__iota_0.00_bp__sigmal_0.250',\n",
       " 'mub_1.00__xi_1.00__kappa_50.00_bp__gross_delta_200.00_bp__iota_2.00_bp__sigmal_0.250',\n",
       " 'mub_1.00__xi_1.00__kappa_25.00_bp__gross_delta_200.00_bp__iota_10.00_bp__sigmal_0.250',\n",
       " 'mub_1.00__xi_1.00__kappa_100.00_bp__gross_delta_200.00_bp__iota_2.50_bp__sigmal_0.250',\n",
       " 'mub_1.00__xi_1.00__kappa_25.00_bp__gross_delta_200.00_bp__iota_0.50_bp__sigmal_0.200',\n",
       " 'mub_1.00__xi_1.00__kappa_50.00_bp__gross_delta_200.00_bp__iota_1.50_bp__sigmal_0.200',\n",
       " 'mub_1.00__xi_1.00__kappa_25.00_bp__gross_delta_200.00_bp__iota_1.00_bp__sigmal_0.300',\n",
       " 'mub_1.00__xi_1.00__kappa_150.00_bp__gross_delta_200.00_bp__iota_2.50_bp__sigmal_0.250',\n",
       " 'mub_1.00__xi_1.00__kappa_50.00_bp__gross_delta_200.00_bp__iota_15.00_bp__sigmal_0.250',\n",
       " 'mub_1.00__xi_1.00__kappa_100.00_bp__gross_delta_200.00_bp__iota_1.50_bp__sigmal_0.250',\n",
       " 'mub_1.00__xi_1.00__kappa_25.00_bp__gross_delta_200.00_bp__iota_1.50_bp__sigmal_0.150',\n",
       " 'mub_1.00__xi_1.00__kappa_100.00_bp__gross_delta_200.00_bp__iota_1.00_bp__sigmal_0.200',\n",
       " 'opt_k_structs_mbr.csv0',\n",
       " 'mub_1.00__xi_1.00__kappa_150.00_bp__gross_delta_200.00_bp__iota_1.00_bp__sigmal_0.300',\n",
       " 'mub_1.00__xi_1.00__kappa_50.00_bp__gross_delta_200.00_bp__iota_50.00_bp__sigmal_0.300',\n",
       " 'mub_1.00__xi_1.00__kappa_50.00_bp__gross_delta_200.00_bp__iota_25.00_bp__sigmal_0.200',\n",
       " 'mub_1.00__xi_1.00__kappa_150.00_bp__gross_delta_200.00_bp__iota_1.00_bp__sigmal_0.200',\n",
       " 'mub_1.00__xi_1.00__kappa_50.00_bp__gross_delta_200.00_bp__iota_2.00_bp__sigmal_0.150',\n",
       " 'mub_1.00__xi_1.00__kappa_100.00_bp__gross_delta_200.00_bp__iota_15.00_bp__sigmal_0.300',\n",
       " 'mub_1.00__xi_1.00__kappa_150.00_bp__gross_delta_200.00_bp__iota_0.00_bp__sigmal_0.250',\n",
       " 'mub_1.00__xi_1.00__kappa_150.00_bp__gross_delta_200.00_bp__iota_5.00_bp__sigmal_0.250',\n",
       " 'mub_1.00__xi_1.00__kappa_50.00_bp__gross_delta_200.00_bp__iota_5.00_bp__sigmal_0.300',\n",
       " 'mub_1.00__xi_1.00__kappa_50.00_bp__gross_delta_200.00_bp__iota_20.00_bp__sigmal_0.250',\n",
       " 'mub_1.00__xi_1.00__kappa_25.00_bp__gross_delta_200.00_bp__iota_10.00_bp__sigmal_0.150',\n",
       " 'mub_1.00__xi_1.00__kappa_25.00_bp__gross_delta_200.00_bp__iota_0.50_bp__sigmal_0.300',\n",
       " 'mub_1.00__xi_1.00__kappa_100.00_bp__gross_delta_200.00_bp__iota_15.00_bp__sigmal_0.250',\n",
       " 'mub_1.00__xi_1.00__kappa_25.00_bp__gross_delta_200.00_bp__iota_50.00_bp__sigmal_0.200',\n",
       " 'mub_1.00__xi_1.00__kappa_50.00_bp__gross_delta_200.00_bp__iota_7.50_bp__sigmal_0.150',\n",
       " 'mub_1.00__xi_1.00__kappa_150.00_bp__gross_delta_200.00_bp__iota_2.50_bp__sigmal_0.200',\n",
       " 'mub_1.00__xi_1.00__kappa_100.00_bp__gross_delta_200.00_bp__iota_7.50_bp__sigmal_0.250',\n",
       " 'mub_1.00__xi_1.00__kappa_25.00_bp__gross_delta_200.00_bp__iota_50.00_bp__sigmal_0.250',\n",
       " 'mub_1.00__xi_1.00__kappa_150.00_bp__gross_delta_200.00_bp__iota_20.00_bp__sigmal_0.250',\n",
       " 'mub_1.00__xi_1.00__kappa_25.00_bp__gross_delta_200.00_bp__iota_7.50_bp__sigmal_0.250',\n",
       " 'mub_1.00__xi_1.00__kappa_150.00_bp__gross_delta_200.00_bp__iota_50.00_bp__sigmal_0.250',\n",
       " 'mub_1.00__xi_1.00__kappa_50.00_bp__gross_delta_200.00_bp__iota_1.00_bp__sigmal_0.200',\n",
       " 'mub_1.00__xi_1.00__kappa_100.00_bp__gross_delta_200.00_bp__iota_5.00_bp__sigmal_0.150',\n",
       " 'mub_1.00__xi_1.00__kappa_150.00_bp__gross_delta_200.00_bp__iota_5.00_bp__sigmal_0.300',\n",
       " 'mub_1.00__xi_1.00__kappa_25.00_bp__gross_delta_200.00_bp__iota_2.00_bp__sigmal_0.200',\n",
       " 'mub_1.00__xi_1.00__kappa_25.00_bp__gross_delta_200.00_bp__iota_7.50_bp__sigmal_0.150',\n",
       " 'mub_1.00__xi_1.00__kappa_25.00_bp__gross_delta_200.00_bp__iota_50.00_bp__sigmal_0.300',\n",
       " 'mub_1.00__xi_1.00__kappa_25.00_bp__gross_delta_200.00_bp__iota_2.50_bp__sigmal_0.300',\n",
       " 'mub_1.00__xi_1.00__kappa_25.00_bp__gross_delta_200.00_bp__iota_0.00_bp__sigmal_0.300',\n",
       " 'mub_1.00__xi_1.00__kappa_150.00_bp__gross_delta_200.00_bp__iota_7.50_bp__sigmal_0.150',\n",
       " 'opt_k_structs_firm_value.csv0',\n",
       " 'mub_1.00__xi_1.00__kappa_25.00_bp__gross_delta_200.00_bp__iota_2.50_bp__sigmal_0.150',\n",
       " 'mub_1.00__xi_1.00__kappa_50.00_bp__gross_delta_200.00_bp__iota_2.00_bp__sigmal_0.200',\n",
       " 'mub_1.00__xi_1.00__kappa_100.00_bp__gross_delta_200.00_bp__iota_2.00_bp__sigmal_0.200',\n",
       " 'mub_1.00__xi_1.00__kappa_50.00_bp__gross_delta_200.00_bp__iota_0.50_bp__sigmal_0.150',\n",
       " 'mub_1.00__xi_1.00__kappa_150.00_bp__gross_delta_200.00_bp__iota_20.00_bp__sigmal_0.200',\n",
       " 'mub_1.00__xi_1.00__kappa_25.00_bp__gross_delta_200.00_bp__iota_1.50_bp__sigmal_0.200',\n",
       " 'mub_1.00__xi_1.00__kappa_150.00_bp__gross_delta_200.00_bp__iota_15.00_bp__sigmal_0.250',\n",
       " 'mub_1.00__xi_1.00__kappa_25.00_bp__gross_delta_200.00_bp__iota_5.00_bp__sigmal_0.200',\n",
       " 'mub_1.00__xi_1.00__kappa_150.00_bp__gross_delta_200.00_bp__iota_50.00_bp__sigmal_0.200',\n",
       " 'mub_1.00__xi_1.00__kappa_150.00_bp__gross_delta_200.00_bp__iota_0.00_bp__sigmal_0.200',\n",
       " 'mub_1.00__xi_1.00__kappa_100.00_bp__gross_delta_200.00_bp__iota_7.50_bp__sigmal_0.150',\n",
       " 'mub_1.00__xi_1.00__kappa_150.00_bp__gross_delta_200.00_bp__iota_10.00_bp__sigmal_0.250',\n",
       " 'mub_1.00__xi_1.00__kappa_50.00_bp__gross_delta_200.00_bp__iota_50.00_bp__sigmal_0.200',\n",
       " 'mub_1.00__xi_1.00__kappa_25.00_bp__gross_delta_200.00_bp__iota_20.00_bp__sigmal_0.300',\n",
       " 'mub_1.00__xi_1.00__kappa_150.00_bp__gross_delta_200.00_bp__iota_0.00_bp__sigmal_0.150',\n",
       " 'mub_1.00__xi_1.00__kappa_50.00_bp__gross_delta_200.00_bp__iota_1.00_bp__sigmal_0.300',\n",
       " 'mub_1.00__xi_1.00__kappa_25.00_bp__gross_delta_200.00_bp__iota_2.00_bp__sigmal_0.150',\n",
       " 'mub_1.00__xi_1.00__kappa_100.00_bp__gross_delta_200.00_bp__iota_25.00_bp__sigmal_0.300',\n",
       " 'mub_1.00__xi_1.00__kappa_100.00_bp__gross_delta_200.00_bp__iota_25.00_bp__sigmal_0.250',\n",
       " 'mub_1.00__xi_1.00__kappa_25.00_bp__gross_delta_200.00_bp__iota_0.50_bp__sigmal_0.150',\n",
       " 'mub_1.00__xi_1.00__kappa_50.00_bp__gross_delta_200.00_bp__iota_50.00_bp__sigmal_0.250',\n",
       " 'mub_1.00__xi_1.00__kappa_50.00_bp__gross_delta_200.00_bp__iota_15.00_bp__sigmal_0.300',\n",
       " 'mub_1.00__xi_1.00__kappa_50.00_bp__gross_delta_200.00_bp__iota_2.50_bp__sigmal_0.150',\n",
       " 'mub_1.00__xi_1.00__kappa_50.00_bp__gross_delta_200.00_bp__iota_5.00_bp__sigmal_0.150',\n",
       " 'mub_1.00__xi_1.00__kappa_25.00_bp__gross_delta_200.00_bp__iota_10.00_bp__sigmal_0.200',\n",
       " 'mub_1.00__xi_1.00__kappa_25.00_bp__gross_delta_200.00_bp__iota_25.00_bp__sigmal_0.250',\n",
       " 'mub_1.00__xi_1.00__kappa_50.00_bp__gross_delta_200.00_bp__iota_7.50_bp__sigmal_0.200',\n",
       " 'mub_1.00__xi_1.00__kappa_150.00_bp__gross_delta_200.00_bp__iota_2.50_bp__sigmal_0.300',\n",
       " 'mub_1.00__xi_1.00__kappa_150.00_bp__gross_delta_200.00_bp__iota_50.00_bp__sigmal_0.300',\n",
       " 'mub_1.00__xi_1.00__kappa_50.00_bp__gross_delta_200.00_bp__iota_10.00_bp__sigmal_0.150',\n",
       " 'mub_1.00__xi_1.00__kappa_50.00_bp__gross_delta_200.00_bp__iota_0.50_bp__sigmal_0.300',\n",
       " 'mub_1.00__xi_1.00__kappa_25.00_bp__gross_delta_200.00_bp__iota_50.00_bp__sigmal_0.150',\n",
       " 'mub_1.00__xi_1.00__kappa_50.00_bp__gross_delta_200.00_bp__iota_2.50_bp__sigmal_0.300',\n",
       " 'mub_1.00__xi_1.00__kappa_100.00_bp__gross_delta_200.00_bp__iota_10.00_bp__sigmal_0.200',\n",
       " 'mub_1.00__xi_1.00__kappa_100.00_bp__gross_delta_200.00_bp__iota_2.50_bp__sigmal_0.200',\n",
       " 'mub_1.00__xi_1.00__kappa_100.00_bp__gross_delta_200.00_bp__iota_50.00_bp__sigmal_0.250',\n",
       " 'mub_1.00__xi_1.00__kappa_50.00_bp__gross_delta_200.00_bp__iota_25.00_bp__sigmal_0.250',\n",
       " 'mub_1.00__xi_1.00__kappa_50.00_bp__gross_delta_200.00_bp__iota_7.50_bp__sigmal_0.300',\n",
       " 'mub_1.00__xi_1.00__kappa_25.00_bp__gross_delta_200.00_bp__iota_7.50_bp__sigmal_0.300',\n",
       " 'mub_1.00__xi_1.00__kappa_150.00_bp__gross_delta_200.00_bp__iota_25.00_bp__sigmal_0.250',\n",
       " 'mub_1.00__xi_1.00__kappa_25.00_bp__gross_delta_200.00_bp__iota_15.00_bp__sigmal_0.300',\n",
       " 'mub_1.00__xi_1.00__kappa_100.00_bp__gross_delta_200.00_bp__iota_5.00_bp__sigmal_0.200',\n",
       " 'mub_1.00__xi_1.00__kappa_50.00_bp__gross_delta_200.00_bp__iota_1.50_bp__sigmal_0.300',\n",
       " 'mub_1.00__xi_1.00__kappa_100.00_bp__gross_delta_200.00_bp__iota_0.50_bp__sigmal_0.150',\n",
       " 'mub_1.00__xi_1.00__kappa_150.00_bp__gross_delta_200.00_bp__iota_1.50_bp__sigmal_0.150',\n",
       " 'mub_1.00__xi_1.00__kappa_50.00_bp__gross_delta_200.00_bp__iota_50.00_bp__sigmal_0.150',\n",
       " 'mub_1.00__xi_1.00__kappa_150.00_bp__gross_delta_200.00_bp__iota_1.50_bp__sigmal_0.200',\n",
       " 'mub_1.00__xi_1.00__kappa_150.00_bp__gross_delta_200.00_bp__iota_1.50_bp__sigmal_0.300',\n",
       " 'mub_1.00__xi_1.00__kappa_25.00_bp__gross_delta_200.00_bp__iota_15.00_bp__sigmal_0.250',\n",
       " 'mub_1.00__xi_1.00__kappa_25.00_bp__gross_delta_200.00_bp__iota_1.00_bp__sigmal_0.150',\n",
       " 'mub_1.00__xi_1.00__kappa_100.00_bp__gross_delta_200.00_bp__iota_5.00_bp__sigmal_0.300',\n",
       " 'mub_1.00__xi_1.00__kappa_50.00_bp__gross_delta_200.00_bp__iota_0.00_bp__sigmal_0.200',\n",
       " 'mub_1.00__xi_1.00__kappa_50.00_bp__gross_delta_200.00_bp__iota_15.00_bp__sigmal_0.150',\n",
       " 'mub_1.00__xi_1.00__kappa_150.00_bp__gross_delta_200.00_bp__iota_7.50_bp__sigmal_0.250',\n",
       " 'mub_1.00__xi_1.00__kappa_50.00_bp__gross_delta_200.00_bp__iota_10.00_bp__sigmal_0.300',\n",
       " 'mub_1.00__xi_1.00__kappa_25.00_bp__gross_delta_200.00_bp__iota_0.00_bp__sigmal_0.150',\n",
       " 'mub_1.00__xi_1.00__kappa_150.00_bp__gross_delta_200.00_bp__iota_0.00_bp__sigmal_0.300',\n",
       " 'mub_1.00__xi_1.00__kappa_50.00_bp__gross_delta_200.00_bp__iota_25.00_bp__sigmal_0.300',\n",
       " 'mub_1.00__xi_1.00__kappa_100.00_bp__gross_delta_200.00_bp__iota_1.00_bp__sigmal_0.250',\n",
       " 'mub_1.00__xi_1.00__kappa_50.00_bp__gross_delta_200.00_bp__iota_15.00_bp__sigmal_0.200',\n",
       " 'mub_1.00__xi_1.00__kappa_100.00_bp__gross_delta_200.00_bp__iota_0.00_bp__sigmal_0.200',\n",
       " 'mub_1.00__xi_1.00__kappa_100.00_bp__gross_delta_200.00_bp__iota_0.00_bp__sigmal_0.300',\n",
       " 'mub_1.00__xi_1.00__kappa_50.00_bp__gross_delta_200.00_bp__iota_0.50_bp__sigmal_0.200',\n",
       " 'mub_1.00__xi_1.00__kappa_150.00_bp__gross_delta_200.00_bp__iota_10.00_bp__sigmal_0.200',\n",
       " 'mub_1.00__xi_1.00__kappa_150.00_bp__gross_delta_200.00_bp__iota_25.00_bp__sigmal_0.150',\n",
       " 'mub_1.00__xi_1.00__kappa_50.00_bp__gross_delta_200.00_bp__iota_1.50_bp__sigmal_0.250',\n",
       " 'mub_1.00__xi_1.00__kappa_50.00_bp__gross_delta_200.00_bp__iota_2.50_bp__sigmal_0.250',\n",
       " 'mub_1.00__xi_1.00__kappa_25.00_bp__gross_delta_200.00_bp__iota_15.00_bp__sigmal_0.200',\n",
       " 'mub_1.00__xi_1.00__kappa_100.00_bp__gross_delta_200.00_bp__iota_20.00_bp__sigmal_0.200',\n",
       " 'mub_1.00__xi_1.00__kappa_150.00_bp__gross_delta_200.00_bp__iota_10.00_bp__sigmal_0.300',\n",
       " 'mub_1.00__xi_1.00__kappa_25.00_bp__gross_delta_200.00_bp__iota_7.50_bp__sigmal_0.200',\n",
       " 'mub_1.00__xi_1.00__kappa_100.00_bp__gross_delta_200.00_bp__iota_10.00_bp__sigmal_0.250',\n",
       " 'mub_1.00__xi_1.00__kappa_25.00_bp__gross_delta_200.00_bp__iota_5.00_bp__sigmal_0.300',\n",
       " 'mub_1.00__xi_1.00__kappa_25.00_bp__gross_delta_200.00_bp__iota_0.00_bp__sigmal_0.200',\n",
       " 'mub_1.00__xi_1.00__kappa_100.00_bp__gross_delta_200.00_bp__iota_20.00_bp__sigmal_0.300',\n",
       " 'mub_1.00__xi_1.00__kappa_50.00_bp__gross_delta_200.00_bp__iota_2.50_bp__sigmal_0.200',\n",
       " 'mub_1.00__xi_1.00__kappa_50.00_bp__gross_delta_200.00_bp__iota_20.00_bp__sigmal_0.200',\n",
       " 'mub_1.00__xi_1.00__kappa_50.00_bp__gross_delta_200.00_bp__iota_20.00_bp__sigmal_0.150',\n",
       " 'mub_1.00__xi_1.00__kappa_100.00_bp__gross_delta_200.00_bp__iota_5.00_bp__sigmal_0.250',\n",
       " 'mub_1.00__xi_1.00__kappa_50.00_bp__gross_delta_200.00_bp__iota_0.00_bp__sigmal_0.250',\n",
       " 'mub_1.00__xi_1.00__kappa_50.00_bp__gross_delta_200.00_bp__iota_7.50_bp__sigmal_0.250',\n",
       " 'mub_1.00__xi_1.00__kappa_150.00_bp__gross_delta_200.00_bp__iota_2.50_bp__sigmal_0.150',\n",
       " 'mub_1.00__xi_1.00__kappa_150.00_bp__gross_delta_200.00_bp__iota_25.00_bp__sigmal_0.200',\n",
       " 'mub_1.00__xi_1.00__kappa_100.00_bp__gross_delta_200.00_bp__iota_7.50_bp__sigmal_0.300',\n",
       " 'mub_1.00__xi_1.00__kappa_100.00_bp__gross_delta_200.00_bp__iota_0.50_bp__sigmal_0.200',\n",
       " 'mub_1.00__xi_1.00__kappa_100.00_bp__gross_delta_200.00_bp__iota_20.00_bp__sigmal_0.150',\n",
       " 'mub_1.00__xi_1.00__kappa_150.00_bp__gross_delta_200.00_bp__iota_2.00_bp__sigmal_0.250',\n",
       " 'mub_1.00__xi_1.00__kappa_50.00_bp__gross_delta_200.00_bp__iota_10.00_bp__sigmal_0.200',\n",
       " 'mub_1.00__xi_1.00__kappa_150.00_bp__gross_delta_200.00_bp__iota_20.00_bp__sigmal_0.300',\n",
       " 'mub_1.00__xi_1.00__kappa_25.00_bp__gross_delta_200.00_bp__iota_20.00_bp__sigmal_0.150',\n",
       " 'mub_1.00__xi_1.00__kappa_25.00_bp__gross_delta_200.00_bp__iota_2.50_bp__sigmal_0.250',\n",
       " 'mub_1.00__xi_1.00__kappa_25.00_bp__gross_delta_200.00_bp__iota_1.50_bp__sigmal_0.250',\n",
       " 'mub_1.00__xi_1.00__kappa_150.00_bp__gross_delta_200.00_bp__iota_2.00_bp__sigmal_0.300',\n",
       " 'mub_1.00__xi_1.00__kappa_150.00_bp__gross_delta_200.00_bp__iota_0.50_bp__sigmal_0.200',\n",
       " 'mub_1.00__xi_1.00__kappa_100.00_bp__gross_delta_200.00_bp__iota_1.50_bp__sigmal_0.200',\n",
       " 'mub_1.00__xi_1.00__kappa_150.00_bp__gross_delta_200.00_bp__iota_1.50_bp__sigmal_0.250',\n",
       " 'mub_1.00__xi_1.00__kappa_50.00_bp__gross_delta_200.00_bp__iota_0.00_bp__sigmal_0.300',\n",
       " 'mub_1.00__xi_1.00__kappa_100.00_bp__gross_delta_200.00_bp__iota_2.00_bp__sigmal_0.250',\n",
       " 'mub_1.00__xi_1.00__kappa_150.00_bp__gross_delta_200.00_bp__iota_15.00_bp__sigmal_0.300',\n",
       " 'mub_1.00__xi_1.00__kappa_50.00_bp__gross_delta_200.00_bp__iota_20.00_bp__sigmal_0.300',\n",
       " 'mub_1.00__xi_1.00__kappa_25.00_bp__gross_delta_200.00_bp__iota_5.00_bp__sigmal_0.150',\n",
       " 'mub_1.00__xi_1.00__kappa_150.00_bp__gross_delta_200.00_bp__iota_1.00_bp__sigmal_0.150',\n",
       " 'mub_1.00__xi_1.00__kappa_100.00_bp__gross_delta_200.00_bp__iota_0.50_bp__sigmal_0.300',\n",
       " 'mub_1.00__xi_1.00__kappa_25.00_bp__gross_delta_200.00_bp__iota_2.00_bp__sigmal_0.250',\n",
       " 'mub_1.00__xi_1.00__kappa_50.00_bp__gross_delta_200.00_bp__iota_5.00_bp__sigmal_0.200',\n",
       " 'mub_1.00__xi_1.00__kappa_100.00_bp__gross_delta_200.00_bp__iota_2.50_bp__sigmal_0.300',\n",
       " 'mub_1.00__xi_1.00__kappa_150.00_bp__gross_delta_200.00_bp__iota_0.50_bp__sigmal_0.250',\n",
       " 'mub_1.00__xi_1.00__kappa_50.00_bp__gross_delta_200.00_bp__iota_0.50_bp__sigmal_0.250',\n",
       " 'mub_1.00__xi_1.00__kappa_50.00_bp__gross_delta_200.00_bp__iota_0.00_bp__sigmal_0.150',\n",
       " 'mub_1.00__xi_1.00__kappa_25.00_bp__gross_delta_200.00_bp__iota_0.50_bp__sigmal_0.250',\n",
       " 'mub_1.00__xi_1.00__kappa_100.00_bp__gross_delta_200.00_bp__iota_1.50_bp__sigmal_0.300',\n",
       " 'mub_1.00__xi_1.00__kappa_25.00_bp__gross_delta_200.00_bp__iota_20.00_bp__sigmal_0.200',\n",
       " 'mub_1.00__xi_1.00__kappa_150.00_bp__gross_delta_200.00_bp__iota_0.50_bp__sigmal_0.150',\n",
       " 'mub_1.00__xi_1.00__kappa_150.00_bp__gross_delta_200.00_bp__iota_7.50_bp__sigmal_0.300',\n",
       " 'mub_1.00__xi_1.00__kappa_100.00_bp__gross_delta_200.00_bp__iota_25.00_bp__sigmal_0.200',\n",
       " 'mub_1.00__xi_1.00__kappa_150.00_bp__gross_delta_200.00_bp__iota_5.00_bp__sigmal_0.200',\n",
       " 'mub_1.00__xi_1.00__kappa_25.00_bp__gross_delta_200.00_bp__iota_25.00_bp__sigmal_0.300',\n",
       " 'mub_1.00__xi_1.00__kappa_100.00_bp__gross_delta_200.00_bp__iota_1.50_bp__sigmal_0.150',\n",
       " 'mub_1.00__xi_1.00__kappa_50.00_bp__gross_delta_200.00_bp__iota_1.00_bp__sigmal_0.250',\n",
       " 'mub_1.00__xi_1.00__kappa_150.00_bp__gross_delta_200.00_bp__iota_5.00_bp__sigmal_0.150',\n",
       " 'mub_1.00__xi_1.00__kappa_50.00_bp__gross_delta_200.00_bp__iota_5.00_bp__sigmal_0.250',\n",
       " 'mub_1.00__xi_1.00__kappa_100.00_bp__gross_delta_200.00_bp__iota_2.00_bp__sigmal_0.300',\n",
       " 'mub_1.00__xi_1.00__kappa_100.00_bp__gross_delta_200.00_bp__iota_7.50_bp__sigmal_0.200',\n",
       " 'mub_1.00__xi_1.00__kappa_25.00_bp__gross_delta_200.00_bp__iota_5.00_bp__sigmal_0.250',\n",
       " 'mub_1.00__xi_1.00__kappa_150.00_bp__gross_delta_200.00_bp__iota_25.00_bp__sigmal_0.300',\n",
       " 'mub_1.00__xi_1.00__kappa_100.00_bp__gross_delta_200.00_bp__iota_10.00_bp__sigmal_0.150',\n",
       " 'mub_1.00__xi_1.00__kappa_50.00_bp__gross_delta_200.00_bp__iota_2.00_bp__sigmal_0.300',\n",
       " 'mub_1.00__xi_1.00__kappa_150.00_bp__gross_delta_200.00_bp__iota_10.00_bp__sigmal_0.150',\n",
       " 'mub_1.00__xi_1.00__kappa_25.00_bp__gross_delta_200.00_bp__iota_2.50_bp__sigmal_0.200',\n",
       " 'mub_1.00__xi_1.00__kappa_100.00_bp__gross_delta_200.00_bp__iota_1.00_bp__sigmal_0.150',\n",
       " 'mub_1.00__xi_1.00__kappa_100.00_bp__gross_delta_200.00_bp__iota_25.00_bp__sigmal_0.150',\n",
       " 'mub_1.00__xi_1.00__kappa_50.00_bp__gross_delta_200.00_bp__iota_1.00_bp__sigmal_0.150',\n",
       " 'mub_1.00__xi_1.00__kappa_25.00_bp__gross_delta_200.00_bp__iota_0.00_bp__sigmal_0.250',\n",
       " 'mub_1.00__xi_1.00__kappa_150.00_bp__gross_delta_200.00_bp__iota_2.00_bp__sigmal_0.200',\n",
       " 'mub_1.00__xi_1.00__kappa_25.00_bp__gross_delta_200.00_bp__iota_20.00_bp__sigmal_0.250',\n",
       " 'mub_1.00__xi_1.00__kappa_150.00_bp__gross_delta_200.00_bp__iota_15.00_bp__sigmal_0.150',\n",
       " 'mub_1.00__xi_1.00__kappa_25.00_bp__gross_delta_200.00_bp__iota_2.00_bp__sigmal_0.300',\n",
       " 'mub_1.00__xi_1.00__kappa_100.00_bp__gross_delta_200.00_bp__iota_50.00_bp__sigmal_0.150',\n",
       " 'mub_1.00__xi_1.00__kappa_25.00_bp__gross_delta_200.00_bp__iota_15.00_bp__sigmal_0.150',\n",
       " 'mub_1.00__xi_1.00__kappa_25.00_bp__gross_delta_200.00_bp__iota_1.50_bp__sigmal_0.300',\n",
       " 'mub_1.00__xi_1.00__kappa_25.00_bp__gross_delta_200.00_bp__iota_1.00_bp__sigmal_0.200',\n",
       " 'mub_1.00__xi_1.00__kappa_25.00_bp__gross_delta_200.00_bp__iota_25.00_bp__sigmal_0.200',\n",
       " 'mub_1.00__xi_1.00__kappa_100.00_bp__gross_delta_200.00_bp__iota_15.00_bp__sigmal_0.150',\n",
       " 'mub_1.00__xi_1.00__kappa_150.00_bp__gross_delta_200.00_bp__iota_7.50_bp__sigmal_0.200',\n",
       " 'mub_1.00__xi_1.00__kappa_100.00_bp__gross_delta_200.00_bp__iota_1.00_bp__sigmal_0.300',\n",
       " 'mub_1.00__xi_1.00__kappa_150.00_bp__gross_delta_200.00_bp__iota_20.00_bp__sigmal_0.150',\n",
       " 'mub_1.00__xi_1.00__kappa_50.00_bp__gross_delta_200.00_bp__iota_25.00_bp__sigmal_0.150']"
      ]
     },
     "execution_count": 33,
     "metadata": {},
     "output_type": "execute_result"
    }
   ],
   "source": [
    "os.listdir(resdir)"
   ]
  },
  {
   "cell_type": "code",
   "execution_count": 11,
   "metadata": {},
   "outputs": [
    {
     "data": {
      "text/plain": [
       "['xi_1.00__kappa_30.00_bp__gross_delta_200.00_bp__iota_0.00_bp__lambda_0.20__sigmal_0.15__sigmah_0.35',\n",
       " 'xi_1.00__kappa_10.00_bp__gross_delta_200.00_bp__iota_0.00_bp__lambda_0.20__sigmal_0.15__sigmah_0.35']"
      ]
     },
     "execution_count": 11,
     "metadata": {},
     "output_type": "execute_result"
    }
   ],
   "source": [
    "os.listdir(resdir)[-3:-1]"
   ]
  },
  {
   "cell_type": "code",
   "execution_count": 15,
   "metadata": {},
   "outputs": [],
   "source": [
    "x = os.listdir(resdir)[-1]"
   ]
  },
  {
   "cell_type": "code",
   "execution_count": 16,
   "metadata": {},
   "outputs": [
    {
     "data": {
      "text/plain": [
       "'xi_1.00__kappa_25.00_bp__gross_delta_200.00_bp__iota_0.00_bp__lambda_0.75__sigmal_0.15__sigmah_0.35'"
      ]
     },
     "execution_count": 16,
     "metadata": {},
     "output_type": "execute_result"
    }
   ],
   "source": [
    "x.replace()"
   ]
  },
  {
   "cell_type": "code",
   "execution_count": null,
   "metadata": {},
   "outputs": [],
   "source": []
  }
 ],
 "metadata": {
  "kernelspec": {
   "display_name": "Python 3",
   "language": "python",
   "name": "python3"
  },
  "language_info": {
   "codemirror_mode": {
    "name": "ipython",
    "version": 3
   },
   "file_extension": ".py",
   "mimetype": "text/x-python",
   "name": "python",
   "nbconvert_exporter": "python",
   "pygments_lexer": "ipython3",
   "version": "3.9.7"
  }
 },
 "nbformat": 4,
 "nbformat_minor": 2
}
